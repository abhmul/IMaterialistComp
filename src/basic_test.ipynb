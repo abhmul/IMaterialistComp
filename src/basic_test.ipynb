{
 "cells": [
  {
   "cell_type": "code",
   "execution_count": 10,
   "metadata": {},
   "outputs": [
    {
     "name": "stdout",
     "output_type": "stream",
     "text": [
      "The autoreload extension is already loaded. To reload it, use:\n",
      "  %reload_ext autoreload\n"
     ]
    }
   ],
   "source": [
    "import run_model\n",
    "import models\n",
    "import utils\n",
    "\n",
    "%load_ext autoreload\n",
    "%autoreload 2"
   ]
  },
  {
   "cell_type": "code",
   "execution_count": 12,
   "metadata": {},
   "outputs": [
    {
     "name": "stderr",
     "output_type": "stream",
     "text": [
      "100%|██████████| 9897/9897 [00:00<00:00, 443498.61it/s]\n",
      "100%|██████████| 9897/9897 [00:00<00:00, 446076.93it/s]\n"
     ]
    }
   ],
   "source": [
    "img_size = (32, 32)\n",
    "data = utils.IMaterialistData(img_size=img_size)\n",
    "# Use the validation data for testing since the train is huge\n",
    "train_dataset = data.load_validation_data()\n",
    "val_dataset = data.load_validation_data()"
   ]
  },
  {
   "cell_type": "code",
   "execution_count": 13,
   "metadata": {},
   "outputs": [],
   "source": [
    "model = models.simple_cnn(utils.NUM_LABELS, img_size=img_size)"
   ]
  },
  {
   "cell_type": "code",
   "execution_count": 15,
   "metadata": {},
   "outputs": [
    {
     "ename": "NotImplementedError",
     "evalue": "Turning off plotting during training is not implemented yet",
     "output_type": "error",
     "traceback": [
      "\u001b[0;31m---------------------------------------------------------------------------\u001b[0m",
      "\u001b[0;31mNotImplementedError\u001b[0m                       Traceback (most recent call last)",
      "\u001b[0;32m<ipython-input-15-870ff93144c3>\u001b[0m in \u001b[0;36m<module>\u001b[0;34m()\u001b[0m\n\u001b[1;32m      1\u001b[0m \u001b[0mmodel\u001b[0m\u001b[0;34m.\u001b[0m\u001b[0mrun_id\u001b[0m \u001b[0;34m=\u001b[0m \u001b[0;34m\"basic_test\"\u001b[0m\u001b[0;34m\u001b[0m\u001b[0m\n\u001b[0;32m----> 2\u001b[0;31m \u001b[0mrun_model\u001b[0m\u001b[0;34m.\u001b[0m\u001b[0mtrain_model\u001b[0m\u001b[0;34m(\u001b[0m\u001b[0mmodel\u001b[0m\u001b[0;34m,\u001b[0m \u001b[0mtrain_dataset\u001b[0m\u001b[0;34m,\u001b[0m \u001b[0mval_dataset\u001b[0m\u001b[0;34m,\u001b[0m \u001b[0mepochs\u001b[0m\u001b[0;34m=\u001b[0m\u001b[0;36m1\u001b[0m\u001b[0;34m)\u001b[0m\u001b[0;34m\u001b[0m\u001b[0m\n\u001b[0m",
      "\u001b[0;32m~/Documents/IMaterialistComp/src/run_model.py\u001b[0m in \u001b[0;36mtrain_model\u001b[0;34m(model, train_dataset, val_dataset, augmenters, epochs, batch_size, plot)\u001b[0m\n\u001b[1;32m     25\u001b[0m                                  save_best_only=True, save_weights_only=True),\n\u001b[1;32m     26\u001b[0m                  Plotter(monitor=\"loss\", scale=\"log\", plot_during_train=plot,\n\u001b[0;32m---> 27\u001b[0;31m                          save_to_file=utils.get_plot_path(model.run_id), block_on_end=False),\n\u001b[0m\u001b[1;32m     28\u001b[0m                  Plotter(monitor=\"acc\", scale=\"linear\", plot_during_train=plot,\n\u001b[1;32m     29\u001b[0m                          save_to_file=utils.get_plot_path(model.run_id + \"_acc\"), block_on_end=False)]\n",
      "\u001b[0;32m~/Documents/IMaterialistComp/src/callbacks/plotter.py\u001b[0m in \u001b[0;36m__init__\u001b[0;34m(self, monitor, scale, plot_during_train, save_to_file, block_on_end)\u001b[0m\n\u001b[1;32m     25\u001b[0m         \u001b[0mself\u001b[0m\u001b[0;34m.\u001b[0m\u001b[0mplot_during_train\u001b[0m \u001b[0;34m=\u001b[0m \u001b[0mplot_during_train\u001b[0m\u001b[0;34m\u001b[0m\u001b[0m\n\u001b[1;32m     26\u001b[0m         \u001b[0;32mif\u001b[0m \u001b[0;32mnot\u001b[0m \u001b[0mself\u001b[0m\u001b[0;34m.\u001b[0m\u001b[0mplot_during_train\u001b[0m\u001b[0;34m:\u001b[0m\u001b[0;34m\u001b[0m\u001b[0m\n\u001b[0;32m---> 27\u001b[0;31m             \u001b[0;32mraise\u001b[0m \u001b[0mNotImplementedError\u001b[0m\u001b[0;34m(\u001b[0m\u001b[0;34m\"Turning off plotting during training is not implemented yet\"\u001b[0m\u001b[0;34m)\u001b[0m\u001b[0;34m\u001b[0m\u001b[0m\n\u001b[0m\u001b[1;32m     28\u001b[0m         \u001b[0mself\u001b[0m\u001b[0;34m.\u001b[0m\u001b[0msave_to_file\u001b[0m \u001b[0;34m=\u001b[0m \u001b[0msave_to_file\u001b[0m\u001b[0;34m\u001b[0m\u001b[0m\n\u001b[1;32m     29\u001b[0m         \u001b[0mself\u001b[0m\u001b[0;34m.\u001b[0m\u001b[0mblock_on_end\u001b[0m \u001b[0;34m=\u001b[0m \u001b[0mblock_on_end\u001b[0m\u001b[0;34m\u001b[0m\u001b[0m\n",
      "\u001b[0;31mNotImplementedError\u001b[0m: Turning off plotting during training is not implemented yet"
     ]
    }
   ],
   "source": [
    "model.run_id = \"basic_test\"\n",
    "run_model.train_model(model, train_dataset, val_dataset, epochs=1)"
   ]
  },
  {
   "cell_type": "code",
   "execution_count": null,
   "metadata": {},
   "outputs": [],
   "source": [
    "test_dataset = data.load_test()\n",
    "predictions = run_model.test_model(model, test_dataset)\n",
    "data.save_submission(utils.get_submission_path(model.model_id), predictions, threshold=0.9)"
   ]
  }
 ],
 "metadata": {
  "kernelspec": {
   "display_name": "Python 3",
   "language": "python",
   "name": "python3"
  },
  "language_info": {
   "codemirror_mode": {
    "name": "ipython",
    "version": 3
   },
   "file_extension": ".py",
   "mimetype": "text/x-python",
   "name": "python",
   "nbconvert_exporter": "python",
   "pygments_lexer": "ipython3",
   "version": "3.5.2"
  }
 },
 "nbformat": 4,
 "nbformat_minor": 1
}
